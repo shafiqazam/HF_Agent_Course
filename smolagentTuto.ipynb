{
 "cells": [
  {
   "cell_type": "code",
   "execution_count": 1,
   "metadata": {},
   "outputs": [
    {
     "data": {
      "application/vnd.jupyter.widget-view+json": {
       "model_id": "2293327f315a49b98baa677b887c04db",
       "version_major": 2,
       "version_minor": 0
      },
      "text/plain": [
       "VBox(children=(HTML(value='<center> <img\\nsrc=https://huggingface.co/front/assets/huggingface_logo-noborder.sv…"
      ]
     },
     "metadata": {},
     "output_type": "display_data"
    }
   ],
   "source": [
    "from huggingface_hub import login\n",
    "\n",
    "login()"
   ]
  },
  {
   "cell_type": "code",
   "execution_count": null,
   "metadata": {},
   "outputs": [
    {
     "data": {
      "text/html": [
       "<pre style=\"white-space:pre;overflow-x:auto;line-height:normal;font-family:Menlo,'DejaVu Sans Mono',consolas,'Courier New',monospace\"><span style=\"color: #d4b702; text-decoration-color: #d4b702\">╭──────────────────────────────────────────────────── </span><span style=\"color: #d4b702; text-decoration-color: #d4b702; font-weight: bold\">New run</span><span style=\"color: #d4b702; text-decoration-color: #d4b702\"> ────────────────────────────────────────────────────╮</span>\n",
       "<span style=\"color: #d4b702; text-decoration-color: #d4b702\">│</span>                                                                                                                 <span style=\"color: #d4b702; text-decoration-color: #d4b702\">│</span>\n",
       "<span style=\"color: #d4b702; text-decoration-color: #d4b702\">│</span> <span style=\"font-weight: bold\">Search for the best music recommendations for a party at the Wayne's mansion.</span>                                   <span style=\"color: #d4b702; text-decoration-color: #d4b702\">│</span>\n",
       "<span style=\"color: #d4b702; text-decoration-color: #d4b702\">│</span>                                                                                                                 <span style=\"color: #d4b702; text-decoration-color: #d4b702\">│</span>\n",
       "<span style=\"color: #d4b702; text-decoration-color: #d4b702\">╰─ HfApiModel - Qwen/Qwen2.5-Coder-32B-Instruct ──────────────────────────────────────────────────────────────────╯</span>\n",
       "</pre>\n"
      ],
      "text/plain": [
       "\u001b[38;2;212;183;2m╭─\u001b[0m\u001b[38;2;212;183;2m───────────────────────────────────────────────────\u001b[0m\u001b[38;2;212;183;2m \u001b[0m\u001b[1;38;2;212;183;2mNew run\u001b[0m\u001b[38;2;212;183;2m \u001b[0m\u001b[38;2;212;183;2m───────────────────────────────────────────────────\u001b[0m\u001b[38;2;212;183;2m─╮\u001b[0m\n",
       "\u001b[38;2;212;183;2m│\u001b[0m                                                                                                                 \u001b[38;2;212;183;2m│\u001b[0m\n",
       "\u001b[38;2;212;183;2m│\u001b[0m \u001b[1mSearch for the best music recommendations for a party at the Wayne's mansion.\u001b[0m                                   \u001b[38;2;212;183;2m│\u001b[0m\n",
       "\u001b[38;2;212;183;2m│\u001b[0m                                                                                                                 \u001b[38;2;212;183;2m│\u001b[0m\n",
       "\u001b[38;2;212;183;2m╰─\u001b[0m\u001b[38;2;212;183;2m HfApiModel - Qwen/Qwen2.5-Coder-32B-Instruct \u001b[0m\u001b[38;2;212;183;2m─────────────────────────────────────────────────────────────────\u001b[0m\u001b[38;2;212;183;2m─╯\u001b[0m\n"
      ]
     },
     "metadata": {},
     "output_type": "display_data"
    },
    {
     "data": {
      "text/html": [
       "<pre style=\"white-space:pre;overflow-x:auto;line-height:normal;font-family:Menlo,'DejaVu Sans Mono',consolas,'Courier New',monospace\"><span style=\"color: #d4b702; text-decoration-color: #d4b702\">━━━━━━━━━━━━━━━━━━━━━━━━━━━━━━━━━━━━━━━━━━━━━━━━━━━━━ </span><span style=\"font-weight: bold\">Step </span><span style=\"color: #008080; text-decoration-color: #008080; font-weight: bold\">1</span><span style=\"color: #d4b702; text-decoration-color: #d4b702\"> ━━━━━━━━━━━━━━━━━━━━━━━━━━━━━━━━━━━━━━━━━━━━━━━━━━━━━━</span>\n",
       "</pre>\n"
      ],
      "text/plain": [
       "\u001b[38;2;212;183;2m━━━━━━━━━━━━━━━━━━━━━━━━━━━━━━━━━━━━━━━━━━━━━━━━━━━━━ \u001b[0m\u001b[1mStep \u001b[0m\u001b[1;36m1\u001b[0m\u001b[38;2;212;183;2m ━━━━━━━━━━━━━━━━━━━━━━━━━━━━━━━━━━━━━━━━━━━━━━━━━━━━━━\u001b[0m\n"
      ]
     },
     "metadata": {},
     "output_type": "display_data"
    },
    {
     "data": {
      "text/html": [
       "<pre style=\"white-space:pre;overflow-x:auto;line-height:normal;font-family:Menlo,'DejaVu Sans Mono',consolas,'Courier New',monospace\"> ─ <span style=\"font-weight: bold\">Executing parsed code:</span> ──────────────────────────────────────────────────────────────────────────────────────── \n",
       "  <span style=\"color: #959077; text-decoration-color: #959077; background-color: #272822\"># Web search for popular party music</span><span style=\"background-color: #272822\">                                                                           </span>  \n",
       "  <span style=\"color: #f8f8f2; text-decoration-color: #f8f8f2; background-color: #272822\">party_music_results </span><span style=\"color: #ff4689; text-decoration-color: #ff4689; background-color: #272822\">=</span><span style=\"color: #f8f8f2; text-decoration-color: #f8f8f2; background-color: #272822\"> web_search(query</span><span style=\"color: #ff4689; text-decoration-color: #ff4689; background-color: #272822\">=</span><span style=\"color: #e6db74; text-decoration-color: #e6db74; background-color: #272822\">\"popular party music\"</span><span style=\"color: #f8f8f2; text-decoration-color: #f8f8f2; background-color: #272822\">)</span><span style=\"background-color: #272822\">                                                  </span>  \n",
       "  <span style=\"color: #f8f8f2; text-decoration-color: #f8f8f2; background-color: #272822\">print(</span><span style=\"color: #e6db74; text-decoration-color: #e6db74; background-color: #272822\">\"Party music results:\"</span><span style=\"color: #f8f8f2; text-decoration-color: #f8f8f2; background-color: #272822\">, party_music_results)</span><span style=\"background-color: #272822\">                                                             </span>  \n",
       "  <span style=\"background-color: #272822\">                                                                                                               </span>  \n",
       "  <span style=\"color: #959077; text-decoration-color: #959077; background-color: #272822\"># Web search for music for upscale events</span><span style=\"background-color: #272822\">                                                                      </span>  \n",
       "  <span style=\"color: #f8f8f2; text-decoration-color: #f8f8f2; background-color: #272822\">upscale_music_results </span><span style=\"color: #ff4689; text-decoration-color: #ff4689; background-color: #272822\">=</span><span style=\"color: #f8f8f2; text-decoration-color: #f8f8f2; background-color: #272822\"> web_search(query</span><span style=\"color: #ff4689; text-decoration-color: #ff4689; background-color: #272822\">=</span><span style=\"color: #e6db74; text-decoration-color: #e6db74; background-color: #272822\">\"upscale event music\"</span><span style=\"color: #f8f8f2; text-decoration-color: #f8f8f2; background-color: #272822\">)</span><span style=\"background-color: #272822\">                                                </span>  \n",
       "  <span style=\"color: #f8f8f2; text-decoration-color: #f8f8f2; background-color: #272822\">print(</span><span style=\"color: #e6db74; text-decoration-color: #e6db74; background-color: #272822\">\"Upscale music results:\"</span><span style=\"color: #f8f8f2; text-decoration-color: #f8f8f2; background-color: #272822\">, upscale_music_results)</span><span style=\"background-color: #272822\">                                                         </span>  \n",
       " ───────────────────────────────────────────────────────────────────────────────────────────────────────────────── \n",
       "</pre>\n"
      ],
      "text/plain": [
       " ─ \u001b[1mExecuting parsed code:\u001b[0m ──────────────────────────────────────────────────────────────────────────────────────── \n",
       "  \u001b[38;2;149;144;119;48;2;39;40;34m# Web search for popular party music\u001b[0m\u001b[48;2;39;40;34m                                                                           \u001b[0m  \n",
       "  \u001b[38;2;248;248;242;48;2;39;40;34mparty_music_results\u001b[0m\u001b[38;2;248;248;242;48;2;39;40;34m \u001b[0m\u001b[38;2;255;70;137;48;2;39;40;34m=\u001b[0m\u001b[38;2;248;248;242;48;2;39;40;34m \u001b[0m\u001b[38;2;248;248;242;48;2;39;40;34mweb_search\u001b[0m\u001b[38;2;248;248;242;48;2;39;40;34m(\u001b[0m\u001b[38;2;248;248;242;48;2;39;40;34mquery\u001b[0m\u001b[38;2;255;70;137;48;2;39;40;34m=\u001b[0m\u001b[38;2;230;219;116;48;2;39;40;34m\"\u001b[0m\u001b[38;2;230;219;116;48;2;39;40;34mpopular party music\u001b[0m\u001b[38;2;230;219;116;48;2;39;40;34m\"\u001b[0m\u001b[38;2;248;248;242;48;2;39;40;34m)\u001b[0m\u001b[48;2;39;40;34m                                                  \u001b[0m  \n",
       "  \u001b[38;2;248;248;242;48;2;39;40;34mprint\u001b[0m\u001b[38;2;248;248;242;48;2;39;40;34m(\u001b[0m\u001b[38;2;230;219;116;48;2;39;40;34m\"\u001b[0m\u001b[38;2;230;219;116;48;2;39;40;34mParty music results:\u001b[0m\u001b[38;2;230;219;116;48;2;39;40;34m\"\u001b[0m\u001b[38;2;248;248;242;48;2;39;40;34m,\u001b[0m\u001b[38;2;248;248;242;48;2;39;40;34m \u001b[0m\u001b[38;2;248;248;242;48;2;39;40;34mparty_music_results\u001b[0m\u001b[38;2;248;248;242;48;2;39;40;34m)\u001b[0m\u001b[48;2;39;40;34m                                                             \u001b[0m  \n",
       "  \u001b[48;2;39;40;34m                                                                                                               \u001b[0m  \n",
       "  \u001b[38;2;149;144;119;48;2;39;40;34m# Web search for music for upscale events\u001b[0m\u001b[48;2;39;40;34m                                                                      \u001b[0m  \n",
       "  \u001b[38;2;248;248;242;48;2;39;40;34mupscale_music_results\u001b[0m\u001b[38;2;248;248;242;48;2;39;40;34m \u001b[0m\u001b[38;2;255;70;137;48;2;39;40;34m=\u001b[0m\u001b[38;2;248;248;242;48;2;39;40;34m \u001b[0m\u001b[38;2;248;248;242;48;2;39;40;34mweb_search\u001b[0m\u001b[38;2;248;248;242;48;2;39;40;34m(\u001b[0m\u001b[38;2;248;248;242;48;2;39;40;34mquery\u001b[0m\u001b[38;2;255;70;137;48;2;39;40;34m=\u001b[0m\u001b[38;2;230;219;116;48;2;39;40;34m\"\u001b[0m\u001b[38;2;230;219;116;48;2;39;40;34mupscale event music\u001b[0m\u001b[38;2;230;219;116;48;2;39;40;34m\"\u001b[0m\u001b[38;2;248;248;242;48;2;39;40;34m)\u001b[0m\u001b[48;2;39;40;34m                                                \u001b[0m  \n",
       "  \u001b[38;2;248;248;242;48;2;39;40;34mprint\u001b[0m\u001b[38;2;248;248;242;48;2;39;40;34m(\u001b[0m\u001b[38;2;230;219;116;48;2;39;40;34m\"\u001b[0m\u001b[38;2;230;219;116;48;2;39;40;34mUpscale music results:\u001b[0m\u001b[38;2;230;219;116;48;2;39;40;34m\"\u001b[0m\u001b[38;2;248;248;242;48;2;39;40;34m,\u001b[0m\u001b[38;2;248;248;242;48;2;39;40;34m \u001b[0m\u001b[38;2;248;248;242;48;2;39;40;34mupscale_music_results\u001b[0m\u001b[38;2;248;248;242;48;2;39;40;34m)\u001b[0m\u001b[48;2;39;40;34m                                                         \u001b[0m  \n",
       " ───────────────────────────────────────────────────────────────────────────────────────────────────────────────── \n"
      ]
     },
     "metadata": {},
     "output_type": "display_data"
    },
    {
     "data": {
      "text/html": [
       "<pre style=\"white-space:pre;overflow-x:auto;line-height:normal;font-family:Menlo,'DejaVu Sans Mono',consolas,'Courier New',monospace\"><span style=\"font-weight: bold\">Execution logs:</span>\n",
       "Party music results: ## Search Results\n",
       "\n",
       "[Best Songs To Party: DJ's Ultimate Party Songs Playlist - \n",
       "Top40Weekly.com](https://top40weekly.com/best-songs-to-party/)\n",
       "If you're looking for the ultimate playlist to get your party started, look no further than this best party songs \n",
       "playlist. Whether you're hosting a birthday bash, a backyard barbecue, or just a night in with friends, the right \n",
       "music can make all the difference. From classic hits to modern bangers, we've compiled a list of the best songs ...\n",
       "\n",
       "[The Top 100 Best Party Songs of All Time - \n",
       "LiveAbout](https://www.liveabout.com/top-best-party-songs-of-all-time-3248355)\n",
       "Just try and watch the music video for \"Love Shack\" and not wish you were at that party. \"Love Shack\" helped turn \n",
       "the B-52's from the self-described, \"tacky little dance band from Athens, GA,\" into arguably the world's top party \n",
       "band.\n",
       "\n",
       "[The 75 Best Party Songs That Will Get Everyone Dancing - \n",
       "Gear4music](https://www.gear4music.com/blog/best-party-songs/)\n",
       "The best party songs 1. \"September\" - Earth, Wind &amp; Fire (1978) Quite possibly the best party song. An infectious \n",
       "mix of funk and soul, \"September\" is celebrated for its upbeat melody and \"ba-dee-ya\" chorus, making it a timeless \n",
       "dance favorite.\n",
       "\n",
       "[40 Best Party Songs | Songs To Dance To, Ranked By Our Editors - Time \n",
       "Out](https://www.timeout.com/music/best-party-songs)\n",
       "The best is when you go for the extended version, and find yourself in the midst of the intro for about 11 minutes.\n",
       "But whichever version you go for, this is the party song, in every way. She ...\n",
       "\n",
       "[Party music mix ~ Best songs that make you dance - YouTube](https://www.youtube.com/watch?v=W5Utkb85QCg)\n",
       "Party music mix ~ Best songs that make you dance#ACvibes #partysongs #dancesongs💞 Donate to A.C Vibes: \n",
       "https://bit.ly/acvibes0210 https://www.buymeacoffe...\n",
       "\n",
       "[The Top 100 Best Party Songs of All Time - YouTube \n",
       "Music](https://music.youtube.com/playlist?list=PL10BZg10BCDQxKXg0qN_-Y6RwvfdDvJdy)\n",
       "Explore the top 100 best party songs of all time on YouTube Music, featuring official albums, singles, videos, \n",
       "remixes, and live performances.\n",
       "\n",
       "[The 101 Best Party Songs Of All Time - Music Grotto](https://www.musicgrotto.com/best-party-songs/)\n",
       "A pounding beat and dramatic vocals make this song one of the best party songs to come out of Europe, and the \n",
       "song's music video features a strange and compelling premise of a dead man being reanimated and falling in love \n",
       "with a woman. Tjis Verwest, (a.k.a. Tiësto) composed the song with help from James Bell, Julia Karlsson, and Anton \n",
       "Rundberg.\n",
       "\n",
       "[Top 200 Most Requested Songs - DJ Event Planner](https://djeventplanner.com/mostrequested.htm)\n",
       "Play That Funky Music: 92: Beyonce: Love On Top: 93: Big &amp; Rich: Save A Horse (Ride A Cowboy) 94: Taylor Swift: You\n",
       "Belong With Me: 95: Cardi B, Bad Bunny and J Balvin: I Like It: 96: ... Top 30 Most Requested Songs For Wedding \n",
       "Party Dance. This list is compiled based on over 2 million song requests made using the DJ Event Planner song \n",
       "request ...\n",
       "\n",
       "[50+ Best Songs For Your Next Party in 2025 - Aleka's \n",
       "Get-Together](https://alekasgettogether.com/top-songs-for-any-party/)\n",
       "50 Popular Party Songs. Uptown Funk - Mark Ronson ft. Bruno Mars Kick off your party with this funky classic! It \n",
       "will definitely get everyone moving and singing along. Don't Stop Believin' - Journey This is a classic that brings\n",
       "everyone together no matter how well they know eachother. I suggest saving this for the end of the evening.\n",
       "\n",
       "[15 Best Party Songs of All Time - Singersroom.com](https://singersroom.com/w76/best-party-songs-of-all-time/)\n",
       "List of the Top 15 Best Party Songs of All Time. by Samuel Moore. February 25, 2025. in Best Songs Guide. 0. 115. \n",
       "SHARES. Share on Facebook Share on Twitter.\n",
       "Upscale music results: ## Search Results\n",
       "\n",
       "[50 Songs on Every Event Planner's Playlist - \n",
       "Eventbrite](https://www.eventbrite.com/blog/event-planning-playlist-ds00/)\n",
       "High-energy songs for business events. The type of music you play at business events is more important than you \n",
       "might think. Music activates the reward and pleasure centres in the brain. Therefore, music can help attendees \n",
       "create positive memories and remember key takeaways.\n",
       "\n",
       "[Live Music Ideas for High-End Corporate Events - \n",
       "onq-live.com](https://onq-live.com/blog/live-music-ideas-for-high-end-corporate-events/)\n",
       "The correct live music may elevate the mood and create a sophisticated, exclusive experience. Live music adds a \n",
       "special touch to events of many kinds, including formal dinners, elegant cocktail receptions, and magnificent \n",
       "galas, that music just cannot equal. Let's look at some live music suggestions for your upcoming upscale business \n",
       "function.\n",
       "\n",
       "[Most Popular Music Genres for Luxury Events: Celebrate with Dennis \n",
       "...](https://www.dennissmithentertainment.com/blog-updates/most-popular-music-genres-at-luxury-events)\n",
       "Current Pop Hits to Energize Your Luxury Event. When curating music for an upscale event, it's crucial to blend \n",
       "timeless classics with contemporary hits that resonate with today's audience. Here are some current popular tracks \n",
       "that can add a modern and vibrant energy to any luxury event, ensuring the playlist remains as fashionable as the \n",
       "...\n",
       "\n",
       "[Cool Jazz Vibe - Elevate Your Event - Upscale Music for Upscale Events](https://cooljazzvibe.com/)\n",
       "Upscale Music for Upscale Events. Menu Video; Contact; Song List; About; Photos; Calendar; Scroll down to content \n",
       "LOVE SONG FOR NO ONE (John Mayer) - Duo We sing &amp; play: NAT KING COLE, SINATRA, MICHAEL BUBLE; JOHN MAYER, NORAH \n",
       "JONES, STING; BRAD PAISLEY, JOHNNY CASH, ELVIS;\n",
       "\n",
       "[The Essential Guide to Choosing Jazz and Classical Music for Upscale \n",
       "Events](https://www.alexlevinmusic.com/blogs/blog/1282850-the-essential-guide-to-choosing-jazz-and-classical-music-\n",
       "for-upscale-events)\n",
       "Understanding the Role of Music in Upscale Events. Music is not just background noise; it is the heartbeat of any \n",
       "event. It sets the tone, enhances the mood, and can even become a focal point of the evening. In upscale events \n",
       "where every detail matters, the choice of music is crucial in defining the event's success.\n",
       "\n",
       "[How to Balance Different Types of Music for Luxury Events — Dennis \n",
       "...](https://www.dennissmithentertainment.com/blog-updates/how-to-balance-different-types-of-music-for-various-luxu\n",
       "ry-event-moments)\n",
       "Speeches are a critical part of the event. For this, music should either stop or fade into the background. Best \n",
       "Types of Music: None! Let the speeches stand alone to maintain focus. Avoid: Any music during speeches—this moment \n",
       "belongs to the speakers. Dance Floor: High-Energy Beats. Now's the time to turn up the energy!\n",
       "\n",
       "[Free Upscale Event Stock Music | Download Songs at StockTune](https://stocktune.com/free-songs/upscale-event)\n",
       "Discover Free Upscale Event Songs on StockTune: Premium Quality Stock Music for All Your Projects. Regular Updates,\n",
       "Commercial &amp; Personal Use, No Attribution Needed!\n",
       "\n",
       "[How to Choose the Best Music for Your Event | Deliver My Tune](https://blog.delivermytune.com/music-for-event/)\n",
       "Live Bands: These are great for weddings or upscale events. They bring energy and connect with the audience \n",
       "directly. DJs: Perfect for high-energy events like parties, ... By choosing the right music for event success, you \n",
       "can create an atmosphere that everyone will remember. Whether it's a small family celebration or a big corporate \n",
       "gala ...\n",
       "\n",
       "[How to Choose Songs for Corporate Events (+ 2 FREE Playlists) - \n",
       "Eventbrite](https://www.eventbrite.com/blog/songs-corporate-events-ds00/)\n",
       "How you can set the tone with music. Every corporate event is different. Depending on the purpose of your event, \n",
       "you will want to set a specific tone. For example, if you're organizing a team-building event, you'll want to \n",
       "include an upbeat playlist to evoke a positive and productive mood. If you're hosting an event for new clients ...\n",
       "\n",
       "[Live Instrumental Music Examples for Corporate \n",
       "Events](https://onq-live.com/blog/live-instrumental-music-examples-for-corporate-events/)\n",
       "How to Select the Best Instrumental Live Music. There are a few key considerations when selecting live instrumental\n",
       "music for your corporate event: Comply with the Event's Theme: The music genre needs to correspond with the event's\n",
       "subject. While a more relaxed networking event can benefit from acoustic or ambient music, a formal black-tie ...\n",
       "\n",
       "Out: None\n",
       "</pre>\n"
      ],
      "text/plain": [
       "\u001b[1mExecution logs:\u001b[0m\n",
       "Party music results: ## Search Results\n",
       "\n",
       "[Best Songs To Party: DJ's Ultimate Party Songs Playlist - \n",
       "Top40Weekly.com](https://top40weekly.com/best-songs-to-party/)\n",
       "If you're looking for the ultimate playlist to get your party started, look no further than this best party songs \n",
       "playlist. Whether you're hosting a birthday bash, a backyard barbecue, or just a night in with friends, the right \n",
       "music can make all the difference. From classic hits to modern bangers, we've compiled a list of the best songs ...\n",
       "\n",
       "[The Top 100 Best Party Songs of All Time - \n",
       "LiveAbout](https://www.liveabout.com/top-best-party-songs-of-all-time-3248355)\n",
       "Just try and watch the music video for \"Love Shack\" and not wish you were at that party. \"Love Shack\" helped turn \n",
       "the B-52's from the self-described, \"tacky little dance band from Athens, GA,\" into arguably the world's top party \n",
       "band.\n",
       "\n",
       "[The 75 Best Party Songs That Will Get Everyone Dancing - \n",
       "Gear4music](https://www.gear4music.com/blog/best-party-songs/)\n",
       "The best party songs 1. \"September\" - Earth, Wind & Fire (1978) Quite possibly the best party song. An infectious \n",
       "mix of funk and soul, \"September\" is celebrated for its upbeat melody and \"ba-dee-ya\" chorus, making it a timeless \n",
       "dance favorite.\n",
       "\n",
       "[40 Best Party Songs | Songs To Dance To, Ranked By Our Editors - Time \n",
       "Out](https://www.timeout.com/music/best-party-songs)\n",
       "The best is when you go for the extended version, and find yourself in the midst of the intro for about 11 minutes.\n",
       "But whichever version you go for, this is the party song, in every way. She ...\n",
       "\n",
       "[Party music mix ~ Best songs that make you dance - YouTube](https://www.youtube.com/watch?v=W5Utkb85QCg)\n",
       "Party music mix ~ Best songs that make you dance#ACvibes #partysongs #dancesongs💞 Donate to A.C Vibes: \n",
       "https://bit.ly/acvibes0210 https://www.buymeacoffe...\n",
       "\n",
       "[The Top 100 Best Party Songs of All Time - YouTube \n",
       "Music](https://music.youtube.com/playlist?list=PL10BZg10BCDQxKXg0qN_-Y6RwvfdDvJdy)\n",
       "Explore the top 100 best party songs of all time on YouTube Music, featuring official albums, singles, videos, \n",
       "remixes, and live performances.\n",
       "\n",
       "[The 101 Best Party Songs Of All Time - Music Grotto](https://www.musicgrotto.com/best-party-songs/)\n",
       "A pounding beat and dramatic vocals make this song one of the best party songs to come out of Europe, and the \n",
       "song's music video features a strange and compelling premise of a dead man being reanimated and falling in love \n",
       "with a woman. Tjis Verwest, (a.k.a. Tiësto) composed the song with help from James Bell, Julia Karlsson, and Anton \n",
       "Rundberg.\n",
       "\n",
       "[Top 200 Most Requested Songs - DJ Event Planner](https://djeventplanner.com/mostrequested.htm)\n",
       "Play That Funky Music: 92: Beyonce: Love On Top: 93: Big & Rich: Save A Horse (Ride A Cowboy) 94: Taylor Swift: You\n",
       "Belong With Me: 95: Cardi B, Bad Bunny and J Balvin: I Like It: 96: ... Top 30 Most Requested Songs For Wedding \n",
       "Party Dance. This list is compiled based on over 2 million song requests made using the DJ Event Planner song \n",
       "request ...\n",
       "\n",
       "[50+ Best Songs For Your Next Party in 2025 - Aleka's \n",
       "Get-Together](https://alekasgettogether.com/top-songs-for-any-party/)\n",
       "50 Popular Party Songs. Uptown Funk - Mark Ronson ft. Bruno Mars Kick off your party with this funky classic! It \n",
       "will definitely get everyone moving and singing along. Don't Stop Believin' - Journey This is a classic that brings\n",
       "everyone together no matter how well they know eachother. I suggest saving this for the end of the evening.\n",
       "\n",
       "[15 Best Party Songs of All Time - Singersroom.com](https://singersroom.com/w76/best-party-songs-of-all-time/)\n",
       "List of the Top 15 Best Party Songs of All Time. by Samuel Moore. February 25, 2025. in Best Songs Guide. 0. 115. \n",
       "SHARES. Share on Facebook Share on Twitter.\n",
       "Upscale music results: ## Search Results\n",
       "\n",
       "[50 Songs on Every Event Planner's Playlist - \n",
       "Eventbrite](https://www.eventbrite.com/blog/event-planning-playlist-ds00/)\n",
       "High-energy songs for business events. The type of music you play at business events is more important than you \n",
       "might think. Music activates the reward and pleasure centres in the brain. Therefore, music can help attendees \n",
       "create positive memories and remember key takeaways.\n",
       "\n",
       "[Live Music Ideas for High-End Corporate Events - \n",
       "onq-live.com](https://onq-live.com/blog/live-music-ideas-for-high-end-corporate-events/)\n",
       "The correct live music may elevate the mood and create a sophisticated, exclusive experience. Live music adds a \n",
       "special touch to events of many kinds, including formal dinners, elegant cocktail receptions, and magnificent \n",
       "galas, that music just cannot equal. Let's look at some live music suggestions for your upcoming upscale business \n",
       "function.\n",
       "\n",
       "[Most Popular Music Genres for Luxury Events: Celebrate with Dennis \n",
       "...](https://www.dennissmithentertainment.com/blog-updates/most-popular-music-genres-at-luxury-events)\n",
       "Current Pop Hits to Energize Your Luxury Event. When curating music for an upscale event, it's crucial to blend \n",
       "timeless classics with contemporary hits that resonate with today's audience. Here are some current popular tracks \n",
       "that can add a modern and vibrant energy to any luxury event, ensuring the playlist remains as fashionable as the \n",
       "...\n",
       "\n",
       "[Cool Jazz Vibe - Elevate Your Event - Upscale Music for Upscale Events](https://cooljazzvibe.com/)\n",
       "Upscale Music for Upscale Events. Menu Video; Contact; Song List; About; Photos; Calendar; Scroll down to content \n",
       "LOVE SONG FOR NO ONE (John Mayer) - Duo We sing & play: NAT KING COLE, SINATRA, MICHAEL BUBLE; JOHN MAYER, NORAH \n",
       "JONES, STING; BRAD PAISLEY, JOHNNY CASH, ELVIS;\n",
       "\n",
       "[The Essential Guide to Choosing Jazz and Classical Music for Upscale \n",
       "Events](https://www.alexlevinmusic.com/blogs/blog/1282850-the-essential-guide-to-choosing-jazz-and-classical-music-\n",
       "for-upscale-events)\n",
       "Understanding the Role of Music in Upscale Events. Music is not just background noise; it is the heartbeat of any \n",
       "event. It sets the tone, enhances the mood, and can even become a focal point of the evening. In upscale events \n",
       "where every detail matters, the choice of music is crucial in defining the event's success.\n",
       "\n",
       "[How to Balance Different Types of Music for Luxury Events — Dennis \n",
       "...](https://www.dennissmithentertainment.com/blog-updates/how-to-balance-different-types-of-music-for-various-luxu\n",
       "ry-event-moments)\n",
       "Speeches are a critical part of the event. For this, music should either stop or fade into the background. Best \n",
       "Types of Music: None! Let the speeches stand alone to maintain focus. Avoid: Any music during speeches—this moment \n",
       "belongs to the speakers. Dance Floor: High-Energy Beats. Now's the time to turn up the energy!\n",
       "\n",
       "[Free Upscale Event Stock Music | Download Songs at StockTune](https://stocktune.com/free-songs/upscale-event)\n",
       "Discover Free Upscale Event Songs on StockTune: Premium Quality Stock Music for All Your Projects. Regular Updates,\n",
       "Commercial & Personal Use, No Attribution Needed!\n",
       "\n",
       "[How to Choose the Best Music for Your Event | Deliver My Tune](https://blog.delivermytune.com/music-for-event/)\n",
       "Live Bands: These are great for weddings or upscale events. They bring energy and connect with the audience \n",
       "directly. DJs: Perfect for high-energy events like parties, ... By choosing the right music for event success, you \n",
       "can create an atmosphere that everyone will remember. Whether it's a small family celebration or a big corporate \n",
       "gala ...\n",
       "\n",
       "[How to Choose Songs for Corporate Events (+ 2 FREE Playlists) - \n",
       "Eventbrite](https://www.eventbrite.com/blog/songs-corporate-events-ds00/)\n",
       "How you can set the tone with music. Every corporate event is different. Depending on the purpose of your event, \n",
       "you will want to set a specific tone. For example, if you're organizing a team-building event, you'll want to \n",
       "include an upbeat playlist to evoke a positive and productive mood. If you're hosting an event for new clients ...\n",
       "\n",
       "[Live Instrumental Music Examples for Corporate \n",
       "Events](https://onq-live.com/blog/live-instrumental-music-examples-for-corporate-events/)\n",
       "How to Select the Best Instrumental Live Music. There are a few key considerations when selecting live instrumental\n",
       "music for your corporate event: Comply with the Event's Theme: The music genre needs to correspond with the event's\n",
       "subject. While a more relaxed networking event can benefit from acoustic or ambient music, a formal black-tie ...\n",
       "\n",
       "Out: None\n"
      ]
     },
     "metadata": {},
     "output_type": "display_data"
    },
    {
     "data": {
      "text/html": [
       "<pre style=\"white-space:pre;overflow-x:auto;line-height:normal;font-family:Menlo,'DejaVu Sans Mono',consolas,'Courier New',monospace\"><span style=\"color: #7f7f7f; text-decoration-color: #7f7f7f\">[Step 0: Duration 12.78 seconds| Input tokens: 2,085 | Output tokens: 158]</span>\n",
       "</pre>\n"
      ],
      "text/plain": [
       "\u001b[2m[Step 0: Duration 12.78 seconds| Input tokens: 2,085 | Output tokens: 158]\u001b[0m\n"
      ]
     },
     "metadata": {},
     "output_type": "display_data"
    },
    {
     "data": {
      "text/html": [
       "<pre style=\"white-space:pre;overflow-x:auto;line-height:normal;font-family:Menlo,'DejaVu Sans Mono',consolas,'Courier New',monospace\"><span style=\"color: #d4b702; text-decoration-color: #d4b702\">━━━━━━━━━━━━━━━━━━━━━━━━━━━━━━━━━━━━━━━━━━━━━━━━━━━━━ </span><span style=\"font-weight: bold\">Step </span><span style=\"color: #008080; text-decoration-color: #008080; font-weight: bold\">2</span><span style=\"color: #d4b702; text-decoration-color: #d4b702\"> ━━━━━━━━━━━━━━━━━━━━━━━━━━━━━━━━━━━━━━━━━━━━━━━━━━━━━━</span>\n",
       "</pre>\n"
      ],
      "text/plain": [
       "\u001b[38;2;212;183;2m━━━━━━━━━━━━━━━━━━━━━━━━━━━━━━━━━━━━━━━━━━━━━━━━━━━━━ \u001b[0m\u001b[1mStep \u001b[0m\u001b[1;36m2\u001b[0m\u001b[38;2;212;183;2m ━━━━━━━━━━━━━━━━━━━━━━━━━━━━━━━━━━━━━━━━━━━━━━━━━━━━━━\u001b[0m\n"
      ]
     },
     "metadata": {},
     "output_type": "display_data"
    },
    {
     "data": {
      "text/html": [
       "<pre style=\"white-space:pre;overflow-x:auto;line-height:normal;font-family:Menlo,'DejaVu Sans Mono',consolas,'Courier New',monospace\"> ─ <span style=\"font-weight: bold\">Executing parsed code:</span> ──────────────────────────────────────────────────────────────────────────────────────── \n",
       "  <span style=\"color: #959077; text-decoration-color: #959077; background-color: #272822\"># Extracting relevant songs from the search results</span><span style=\"background-color: #272822\">                                                            </span>  \n",
       "  <span style=\"color: #ff4689; text-decoration-color: #ff4689; background-color: #272822\">import</span><span style=\"color: #f8f8f2; text-decoration-color: #f8f8f2; background-color: #272822\"> re</span><span style=\"background-color: #272822\">                                                                                                      </span>  \n",
       "  <span style=\"background-color: #272822\">                                                                                                               </span>  \n",
       "  <span style=\"color: #959077; text-decoration-color: #959077; background-color: #272822\"># Function to extract song titles and artists from search results</span><span style=\"background-color: #272822\">                                              </span>  \n",
       "  <span style=\"color: #66d9ef; text-decoration-color: #66d9ef; background-color: #272822\">def</span><span style=\"color: #f8f8f2; text-decoration-color: #f8f8f2; background-color: #272822\"> </span><span style=\"color: #a6e22e; text-decoration-color: #a6e22e; background-color: #272822\">extract_songs</span><span style=\"color: #f8f8f2; text-decoration-color: #f8f8f2; background-color: #272822\">(results):</span><span style=\"background-color: #272822\">                                                                                    </span>  \n",
       "  <span style=\"color: #f8f8f2; text-decoration-color: #f8f8f2; background-color: #272822\">    songs </span><span style=\"color: #ff4689; text-decoration-color: #ff4689; background-color: #272822\">=</span><span style=\"color: #f8f8f2; text-decoration-color: #f8f8f2; background-color: #272822\"> set()</span><span style=\"background-color: #272822\">                                                                                              </span>  \n",
       "  <span style=\"color: #f8f8f2; text-decoration-color: #f8f8f2; background-color: #272822\">    titles </span><span style=\"color: #ff4689; text-decoration-color: #ff4689; background-color: #272822\">=</span><span style=\"color: #f8f8f2; text-decoration-color: #f8f8f2; background-color: #272822\"> re</span><span style=\"color: #ff4689; text-decoration-color: #ff4689; background-color: #272822\">.</span><span style=\"color: #f8f8f2; text-decoration-color: #f8f8f2; background-color: #272822\">findall(</span><span style=\"color: #e6db74; text-decoration-color: #e6db74; background-color: #272822\">r'\"\\w[\\w\\s</span><span style=\"color: #ae81ff; text-decoration-color: #ae81ff; background-color: #272822\">\\'</span><span style=\"color: #e6db74; text-decoration-color: #e6db74; background-color: #272822\">&amp;()+-]*\\w\"'</span><span style=\"color: #f8f8f2; text-decoration-color: #f8f8f2; background-color: #272822\">, results)</span><span style=\"background-color: #272822\">                                                      </span>  \n",
       "  <span style=\"color: #f8f8f2; text-decoration-color: #f8f8f2; background-color: #272822\">    </span><span style=\"color: #66d9ef; text-decoration-color: #66d9ef; background-color: #272822\">for</span><span style=\"color: #f8f8f2; text-decoration-color: #f8f8f2; background-color: #272822\"> title </span><span style=\"color: #ff4689; text-decoration-color: #ff4689; background-color: #272822\">in</span><span style=\"color: #f8f8f2; text-decoration-color: #f8f8f2; background-color: #272822\"> titles:</span><span style=\"background-color: #272822\">                                                                                       </span>  \n",
       "  <span style=\"color: #f8f8f2; text-decoration-color: #f8f8f2; background-color: #272822\">        songs</span><span style=\"color: #ff4689; text-decoration-color: #ff4689; background-color: #272822\">.</span><span style=\"color: #f8f8f2; text-decoration-color: #f8f8f2; background-color: #272822\">add(title</span><span style=\"color: #ff4689; text-decoration-color: #ff4689; background-color: #272822\">.</span><span style=\"color: #f8f8f2; text-decoration-color: #f8f8f2; background-color: #272822\">strip(</span><span style=\"color: #e6db74; text-decoration-color: #e6db74; background-color: #272822\">'\"'</span><span style=\"color: #f8f8f2; text-decoration-color: #f8f8f2; background-color: #272822\">))</span><span style=\"background-color: #272822\">                                                                            </span>  \n",
       "  <span style=\"color: #f8f8f2; text-decoration-color: #f8f8f2; background-color: #272822\">    </span><span style=\"color: #66d9ef; text-decoration-color: #66d9ef; background-color: #272822\">return</span><span style=\"color: #f8f8f2; text-decoration-color: #f8f8f2; background-color: #272822\"> songs</span><span style=\"background-color: #272822\">                                                                                               </span>  \n",
       "  <span style=\"background-color: #272822\">                                                                                                               </span>  \n",
       "  <span style=\"color: #959077; text-decoration-color: #959077; background-color: #272822\"># Extracting songs from party music results</span><span style=\"background-color: #272822\">                                                                    </span>  \n",
       "  <span style=\"color: #f8f8f2; text-decoration-color: #f8f8f2; background-color: #272822\">party_songs </span><span style=\"color: #ff4689; text-decoration-color: #ff4689; background-color: #272822\">=</span><span style=\"color: #f8f8f2; text-decoration-color: #f8f8f2; background-color: #272822\"> extract_songs(party_music_results)</span><span style=\"background-color: #272822\">                                                               </span>  \n",
       "  <span style=\"background-color: #272822\">                                                                                                               </span>  \n",
       "  <span style=\"color: #959077; text-decoration-color: #959077; background-color: #272822\"># Extracting songs from upscale music results</span><span style=\"background-color: #272822\">                                                                  </span>  \n",
       "  <span style=\"color: #f8f8f2; text-decoration-color: #f8f8f2; background-color: #272822\">upscale_songs </span><span style=\"color: #ff4689; text-decoration-color: #ff4689; background-color: #272822\">=</span><span style=\"color: #f8f8f2; text-decoration-color: #f8f8f2; background-color: #272822\"> extract_songs(upscale_music_results)</span><span style=\"background-color: #272822\">                                                           </span>  \n",
       "  <span style=\"background-color: #272822\">                                                                                                               </span>  \n",
       "  <span style=\"color: #959077; text-decoration-color: #959077; background-color: #272822\"># Combining both sets of songs and converting to list</span><span style=\"background-color: #272822\">                                                          </span>  \n",
       "  <span style=\"color: #f8f8f2; text-decoration-color: #f8f8f2; background-color: #272822\">all_songs </span><span style=\"color: #ff4689; text-decoration-color: #ff4689; background-color: #272822\">=</span><span style=\"color: #f8f8f2; text-decoration-color: #f8f8f2; background-color: #272822\"> list(party_songs</span><span style=\"color: #ff4689; text-decoration-color: #ff4689; background-color: #272822\">.</span><span style=\"color: #f8f8f2; text-decoration-color: #f8f8f2; background-color: #272822\">union(upscale_songs))</span><span style=\"background-color: #272822\">                                                             </span>  \n",
       "  <span style=\"background-color: #272822\">                                                                                                               </span>  \n",
       "  <span style=\"color: #959077; text-decoration-color: #959077; background-color: #272822\"># Print the combined list of songs for observation</span><span style=\"background-color: #272822\">                                                             </span>  \n",
       "  <span style=\"color: #f8f8f2; text-decoration-color: #f8f8f2; background-color: #272822\">print(all_songs)</span><span style=\"background-color: #272822\">                                                                                               </span>  \n",
       " ───────────────────────────────────────────────────────────────────────────────────────────────────────────────── \n",
       "</pre>\n"
      ],
      "text/plain": [
       " ─ \u001b[1mExecuting parsed code:\u001b[0m ──────────────────────────────────────────────────────────────────────────────────────── \n",
       "  \u001b[38;2;149;144;119;48;2;39;40;34m# Extracting relevant songs from the search results\u001b[0m\u001b[48;2;39;40;34m                                                            \u001b[0m  \n",
       "  \u001b[38;2;255;70;137;48;2;39;40;34mimport\u001b[0m\u001b[38;2;248;248;242;48;2;39;40;34m \u001b[0m\u001b[38;2;248;248;242;48;2;39;40;34mre\u001b[0m\u001b[48;2;39;40;34m                                                                                                      \u001b[0m  \n",
       "  \u001b[48;2;39;40;34m                                                                                                               \u001b[0m  \n",
       "  \u001b[38;2;149;144;119;48;2;39;40;34m# Function to extract song titles and artists from search results\u001b[0m\u001b[48;2;39;40;34m                                              \u001b[0m  \n",
       "  \u001b[38;2;102;217;239;48;2;39;40;34mdef\u001b[0m\u001b[38;2;248;248;242;48;2;39;40;34m \u001b[0m\u001b[38;2;166;226;46;48;2;39;40;34mextract_songs\u001b[0m\u001b[38;2;248;248;242;48;2;39;40;34m(\u001b[0m\u001b[38;2;248;248;242;48;2;39;40;34mresults\u001b[0m\u001b[38;2;248;248;242;48;2;39;40;34m)\u001b[0m\u001b[38;2;248;248;242;48;2;39;40;34m:\u001b[0m\u001b[48;2;39;40;34m                                                                                    \u001b[0m  \n",
       "  \u001b[38;2;248;248;242;48;2;39;40;34m    \u001b[0m\u001b[38;2;248;248;242;48;2;39;40;34msongs\u001b[0m\u001b[38;2;248;248;242;48;2;39;40;34m \u001b[0m\u001b[38;2;255;70;137;48;2;39;40;34m=\u001b[0m\u001b[38;2;248;248;242;48;2;39;40;34m \u001b[0m\u001b[38;2;248;248;242;48;2;39;40;34mset\u001b[0m\u001b[38;2;248;248;242;48;2;39;40;34m(\u001b[0m\u001b[38;2;248;248;242;48;2;39;40;34m)\u001b[0m\u001b[48;2;39;40;34m                                                                                              \u001b[0m  \n",
       "  \u001b[38;2;248;248;242;48;2;39;40;34m    \u001b[0m\u001b[38;2;248;248;242;48;2;39;40;34mtitles\u001b[0m\u001b[38;2;248;248;242;48;2;39;40;34m \u001b[0m\u001b[38;2;255;70;137;48;2;39;40;34m=\u001b[0m\u001b[38;2;248;248;242;48;2;39;40;34m \u001b[0m\u001b[38;2;248;248;242;48;2;39;40;34mre\u001b[0m\u001b[38;2;255;70;137;48;2;39;40;34m.\u001b[0m\u001b[38;2;248;248;242;48;2;39;40;34mfindall\u001b[0m\u001b[38;2;248;248;242;48;2;39;40;34m(\u001b[0m\u001b[38;2;230;219;116;48;2;39;40;34mr\u001b[0m\u001b[38;2;230;219;116;48;2;39;40;34m'\u001b[0m\u001b[38;2;230;219;116;48;2;39;40;34m\"\u001b[0m\u001b[38;2;230;219;116;48;2;39;40;34m\\\u001b[0m\u001b[38;2;230;219;116;48;2;39;40;34mw[\u001b[0m\u001b[38;2;230;219;116;48;2;39;40;34m\\\u001b[0m\u001b[38;2;230;219;116;48;2;39;40;34mw\u001b[0m\u001b[38;2;230;219;116;48;2;39;40;34m\\\u001b[0m\u001b[38;2;230;219;116;48;2;39;40;34ms\u001b[0m\u001b[38;2;174;129;255;48;2;39;40;34m\\'\u001b[0m\u001b[38;2;230;219;116;48;2;39;40;34m&()+-]*\u001b[0m\u001b[38;2;230;219;116;48;2;39;40;34m\\\u001b[0m\u001b[38;2;230;219;116;48;2;39;40;34mw\u001b[0m\u001b[38;2;230;219;116;48;2;39;40;34m\"\u001b[0m\u001b[38;2;230;219;116;48;2;39;40;34m'\u001b[0m\u001b[38;2;248;248;242;48;2;39;40;34m,\u001b[0m\u001b[38;2;248;248;242;48;2;39;40;34m \u001b[0m\u001b[38;2;248;248;242;48;2;39;40;34mresults\u001b[0m\u001b[38;2;248;248;242;48;2;39;40;34m)\u001b[0m\u001b[48;2;39;40;34m                                                      \u001b[0m  \n",
       "  \u001b[38;2;248;248;242;48;2;39;40;34m    \u001b[0m\u001b[38;2;102;217;239;48;2;39;40;34mfor\u001b[0m\u001b[38;2;248;248;242;48;2;39;40;34m \u001b[0m\u001b[38;2;248;248;242;48;2;39;40;34mtitle\u001b[0m\u001b[38;2;248;248;242;48;2;39;40;34m \u001b[0m\u001b[38;2;255;70;137;48;2;39;40;34min\u001b[0m\u001b[38;2;248;248;242;48;2;39;40;34m \u001b[0m\u001b[38;2;248;248;242;48;2;39;40;34mtitles\u001b[0m\u001b[38;2;248;248;242;48;2;39;40;34m:\u001b[0m\u001b[48;2;39;40;34m                                                                                       \u001b[0m  \n",
       "  \u001b[38;2;248;248;242;48;2;39;40;34m        \u001b[0m\u001b[38;2;248;248;242;48;2;39;40;34msongs\u001b[0m\u001b[38;2;255;70;137;48;2;39;40;34m.\u001b[0m\u001b[38;2;248;248;242;48;2;39;40;34madd\u001b[0m\u001b[38;2;248;248;242;48;2;39;40;34m(\u001b[0m\u001b[38;2;248;248;242;48;2;39;40;34mtitle\u001b[0m\u001b[38;2;255;70;137;48;2;39;40;34m.\u001b[0m\u001b[38;2;248;248;242;48;2;39;40;34mstrip\u001b[0m\u001b[38;2;248;248;242;48;2;39;40;34m(\u001b[0m\u001b[38;2;230;219;116;48;2;39;40;34m'\u001b[0m\u001b[38;2;230;219;116;48;2;39;40;34m\"\u001b[0m\u001b[38;2;230;219;116;48;2;39;40;34m'\u001b[0m\u001b[38;2;248;248;242;48;2;39;40;34m)\u001b[0m\u001b[38;2;248;248;242;48;2;39;40;34m)\u001b[0m\u001b[48;2;39;40;34m                                                                            \u001b[0m  \n",
       "  \u001b[38;2;248;248;242;48;2;39;40;34m    \u001b[0m\u001b[38;2;102;217;239;48;2;39;40;34mreturn\u001b[0m\u001b[38;2;248;248;242;48;2;39;40;34m \u001b[0m\u001b[38;2;248;248;242;48;2;39;40;34msongs\u001b[0m\u001b[48;2;39;40;34m                                                                                               \u001b[0m  \n",
       "  \u001b[48;2;39;40;34m                                                                                                               \u001b[0m  \n",
       "  \u001b[38;2;149;144;119;48;2;39;40;34m# Extracting songs from party music results\u001b[0m\u001b[48;2;39;40;34m                                                                    \u001b[0m  \n",
       "  \u001b[38;2;248;248;242;48;2;39;40;34mparty_songs\u001b[0m\u001b[38;2;248;248;242;48;2;39;40;34m \u001b[0m\u001b[38;2;255;70;137;48;2;39;40;34m=\u001b[0m\u001b[38;2;248;248;242;48;2;39;40;34m \u001b[0m\u001b[38;2;248;248;242;48;2;39;40;34mextract_songs\u001b[0m\u001b[38;2;248;248;242;48;2;39;40;34m(\u001b[0m\u001b[38;2;248;248;242;48;2;39;40;34mparty_music_results\u001b[0m\u001b[38;2;248;248;242;48;2;39;40;34m)\u001b[0m\u001b[48;2;39;40;34m                                                               \u001b[0m  \n",
       "  \u001b[48;2;39;40;34m                                                                                                               \u001b[0m  \n",
       "  \u001b[38;2;149;144;119;48;2;39;40;34m# Extracting songs from upscale music results\u001b[0m\u001b[48;2;39;40;34m                                                                  \u001b[0m  \n",
       "  \u001b[38;2;248;248;242;48;2;39;40;34mupscale_songs\u001b[0m\u001b[38;2;248;248;242;48;2;39;40;34m \u001b[0m\u001b[38;2;255;70;137;48;2;39;40;34m=\u001b[0m\u001b[38;2;248;248;242;48;2;39;40;34m \u001b[0m\u001b[38;2;248;248;242;48;2;39;40;34mextract_songs\u001b[0m\u001b[38;2;248;248;242;48;2;39;40;34m(\u001b[0m\u001b[38;2;248;248;242;48;2;39;40;34mupscale_music_results\u001b[0m\u001b[38;2;248;248;242;48;2;39;40;34m)\u001b[0m\u001b[48;2;39;40;34m                                                           \u001b[0m  \n",
       "  \u001b[48;2;39;40;34m                                                                                                               \u001b[0m  \n",
       "  \u001b[38;2;149;144;119;48;2;39;40;34m# Combining both sets of songs and converting to list\u001b[0m\u001b[48;2;39;40;34m                                                          \u001b[0m  \n",
       "  \u001b[38;2;248;248;242;48;2;39;40;34mall_songs\u001b[0m\u001b[38;2;248;248;242;48;2;39;40;34m \u001b[0m\u001b[38;2;255;70;137;48;2;39;40;34m=\u001b[0m\u001b[38;2;248;248;242;48;2;39;40;34m \u001b[0m\u001b[38;2;248;248;242;48;2;39;40;34mlist\u001b[0m\u001b[38;2;248;248;242;48;2;39;40;34m(\u001b[0m\u001b[38;2;248;248;242;48;2;39;40;34mparty_songs\u001b[0m\u001b[38;2;255;70;137;48;2;39;40;34m.\u001b[0m\u001b[38;2;248;248;242;48;2;39;40;34munion\u001b[0m\u001b[38;2;248;248;242;48;2;39;40;34m(\u001b[0m\u001b[38;2;248;248;242;48;2;39;40;34mupscale_songs\u001b[0m\u001b[38;2;248;248;242;48;2;39;40;34m)\u001b[0m\u001b[38;2;248;248;242;48;2;39;40;34m)\u001b[0m\u001b[48;2;39;40;34m                                                             \u001b[0m  \n",
       "  \u001b[48;2;39;40;34m                                                                                                               \u001b[0m  \n",
       "  \u001b[38;2;149;144;119;48;2;39;40;34m# Print the combined list of songs for observation\u001b[0m\u001b[48;2;39;40;34m                                                             \u001b[0m  \n",
       "  \u001b[38;2;248;248;242;48;2;39;40;34mprint\u001b[0m\u001b[38;2;248;248;242;48;2;39;40;34m(\u001b[0m\u001b[38;2;248;248;242;48;2;39;40;34mall_songs\u001b[0m\u001b[38;2;248;248;242;48;2;39;40;34m)\u001b[0m\u001b[48;2;39;40;34m                                                                                               \u001b[0m  \n",
       " ───────────────────────────────────────────────────────────────────────────────────────────────────────────────── \n"
      ]
     },
     "metadata": {},
     "output_type": "display_data"
    },
    {
     "data": {
      "text/html": [
       "<pre style=\"white-space:pre;overflow-x:auto;line-height:normal;font-family:Menlo,'DejaVu Sans Mono',consolas,'Courier New',monospace\"><span style=\"font-weight: bold\">Execution logs:</span>\n",
       "['Love Shack', 'ba-dee-ya', 'September']\n",
       "\n",
       "Out: None\n",
       "</pre>\n"
      ],
      "text/plain": [
       "\u001b[1mExecution logs:\u001b[0m\n",
       "['Love Shack', 'ba-dee-ya', 'September']\n",
       "\n",
       "Out: None\n"
      ]
     },
     "metadata": {},
     "output_type": "display_data"
    },
    {
     "data": {
      "text/html": [
       "<pre style=\"white-space:pre;overflow-x:auto;line-height:normal;font-family:Menlo,'DejaVu Sans Mono',consolas,'Courier New',monospace\"><span style=\"color: #7f7f7f; text-decoration-color: #7f7f7f\">[Step 1: Duration 16.62 seconds| Input tokens: 6,472 | Output tokens: 377]</span>\n",
       "</pre>\n"
      ],
      "text/plain": [
       "\u001b[2m[Step 1: Duration 16.62 seconds| Input tokens: 6,472 | Output tokens: 377]\u001b[0m\n"
      ]
     },
     "metadata": {},
     "output_type": "display_data"
    },
    {
     "data": {
      "text/html": [
       "<pre style=\"white-space:pre;overflow-x:auto;line-height:normal;font-family:Menlo,'DejaVu Sans Mono',consolas,'Courier New',monospace\"><span style=\"color: #d4b702; text-decoration-color: #d4b702\">━━━━━━━━━━━━━━━━━━━━━━━━━━━━━━━━━━━━━━━━━━━━━━━━━━━━━ </span><span style=\"font-weight: bold\">Step </span><span style=\"color: #008080; text-decoration-color: #008080; font-weight: bold\">3</span><span style=\"color: #d4b702; text-decoration-color: #d4b702\"> ━━━━━━━━━━━━━━━━━━━━━━━━━━━━━━━━━━━━━━━━━━━━━━━━━━━━━━</span>\n",
       "</pre>\n"
      ],
      "text/plain": [
       "\u001b[38;2;212;183;2m━━━━━━━━━━━━━━━━━━━━━━━━━━━━━━━━━━━━━━━━━━━━━━━━━━━━━ \u001b[0m\u001b[1mStep \u001b[0m\u001b[1;36m3\u001b[0m\u001b[38;2;212;183;2m ━━━━━━━━━━━━━━━━━━━━━━━━━━━━━━━━━━━━━━━━━━━━━━━━━━━━━━\u001b[0m\n"
      ]
     },
     "metadata": {},
     "output_type": "display_data"
    }
   ],
   "source": [
    "from smolagents import CodeAgent, DuckDuckGoSearchTool, HfApiModel\n",
    "\n",
    "agent = CodeAgent(tools=[DuckDuckGoSearchTool()], model=HfApiModel())\n",
    "\n",
    "agent.run(\"Search for the best music recommendations for a party at the Wayne's mansion.\")"
   ]
  },
  {
   "cell_type": "code",
   "execution_count": null,
   "metadata": {},
   "outputs": [],
   "source": [
    "from smolagents import CodeAgent, tool\n",
    "\n",
    "# Tool to suggest a menu based on the occasion\n",
    "@tool\n",
    "def suggest_menu(occasion: str) -> str:\n",
    "    \"\"\"\n",
    "    Suggests a menu based on the occasion.\n",
    "    Args:\n",
    "        occasion: The type of occasion for the party. Occasions can be \"casual\", \"formal\", \"superhero\" or \"others\"\n",
    "    \"\"\"\n",
    "    if occasion == \"casual\":\n",
    "        return \"Pizza, snacks, and drinks.\"\n",
    "    elif occasion == \"formal\":\n",
    "        return \"3-course dinner with wine and dessert.\"\n",
    "    elif occasion == \"superhero\":\n",
    "        return \"Buffet with high-energy and healthy food.\"\n",
    "    else:\n",
    "        return \"Custom menu for the butler.\"\n",
    "\n",
    "# Alfred, the butler, preparing the menu for the party\n",
    "agent = CodeAgent(tools=[suggest_menu], model=HfApiModel())\n",
    "\n",
    "# Preparing the menu for the party\n",
    "agent.run(\"Prepare a formal menu for the party.\")"
   ]
  }
 ],
 "metadata": {
  "kernelspec": {
   "display_name": "Python 3",
   "language": "python",
   "name": "python3"
  },
  "language_info": {
   "codemirror_mode": {
    "name": "ipython",
    "version": 3
   },
   "file_extension": ".py",
   "mimetype": "text/x-python",
   "name": "python",
   "nbconvert_exporter": "python",
   "pygments_lexer": "ipython3",
   "version": "3.11.7"
  }
 },
 "nbformat": 4,
 "nbformat_minor": 2
}
